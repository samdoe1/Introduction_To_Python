{
 "cells": [
  {
   "cell_type": "markdown",
   "id": "6b487c25-bfc0-4f50-9b48-c53d0600487c",
   "metadata": {},
   "source": [
    "## INTRODUCTION TO PYTHON FOR DATA ANALYSIS"
   ]
  },
  {
   "cell_type": "code",
   "execution_count": 4,
   "id": "33ad3128-4ce9-4110-b613-d487eb41ab96",
   "metadata": {},
   "outputs": [
    {
     "name": "stdout",
     "output_type": "stream",
     "text": [
      "Hello world\n"
     ]
    }
   ],
   "source": [
    "python=\"Hello world\"\n",
    "print(python)"
   ]
  },
  {
   "cell_type": "code",
   "execution_count": 11,
   "id": "cc052d53-66d4-4b0a-8805-aaec3363b1ab",
   "metadata": {},
   "outputs": [
    {
     "data": {
      "text/plain": [
       "383"
      ]
     },
     "execution_count": 11,
     "metadata": {},
     "output_type": "execute_result"
    }
   ],
   "source": [
    "SD=49+334\n",
    "SD"
   ]
  },
  {
   "cell_type": "markdown",
   "id": "21e7a7d6-4657-4f2d-ae7d-a3a1487dead6",
   "metadata": {},
   "source": [
    "### Overwrite the varriables"
   ]
  },
  {
   "cell_type": "code",
   "execution_count": 14,
   "id": "2bc9b3a9-2fd9-4597-87c7-223ad5b20e15",
   "metadata": {},
   "outputs": [
    {
     "name": "stdout",
     "output_type": "stream",
     "text": [
      "i am going\n"
     ]
    }
   ],
   "source": [
    "SD=\"i am going\"\n",
    "print(SD)"
   ]
  },
  {
   "cell_type": "code",
   "execution_count": 16,
   "id": "03d25321-8008-4f1b-8b18-5baeebab9754",
   "metadata": {},
   "outputs": [
    {
     "name": "stdout",
     "output_type": "stream",
     "text": [
      "MEETING\n"
     ]
    }
   ],
   "source": [
    "SD=\"MEETING\"\n",
    "print(SD)"
   ]
  },
  {
   "cell_type": "code",
   "execution_count": 18,
   "id": "91a83bd3-4a76-4604-9a6e-2dadd5404bb1",
   "metadata": {},
   "outputs": [
    {
     "data": {
      "text/plain": [
       "'MEETING'"
      ]
     },
     "execution_count": 18,
     "metadata": {},
     "output_type": "execute_result"
    }
   ],
   "source": [
    "SD"
   ]
  },
  {
   "cell_type": "code",
   "execution_count": null,
   "id": "4c60fd6d-9c88-41e2-b281-5cdfbc653fa2",
   "metadata": {},
   "outputs": [],
   "source": []
  }
 ],
 "metadata": {
  "kernelspec": {
   "display_name": "Python [conda env:base] *",
   "language": "python",
   "name": "conda-base-py"
  },
  "language_info": {
   "codemirror_mode": {
    "name": "ipython",
    "version": 3
   },
   "file_extension": ".py",
   "mimetype": "text/x-python",
   "name": "python",
   "nbconvert_exporter": "python",
   "pygments_lexer": "ipython3",
   "version": "3.12.7"
  }
 },
 "nbformat": 4,
 "nbformat_minor": 5
}
